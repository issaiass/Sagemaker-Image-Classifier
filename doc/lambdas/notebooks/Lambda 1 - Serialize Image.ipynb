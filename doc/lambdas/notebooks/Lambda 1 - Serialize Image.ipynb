{
 "cells": [
  {
   "cell_type": "markdown",
   "id": "07bfa9e6",
   "metadata": {},
   "source": [
    "# Lambda 1 - Serialize Image"
   ]
  },
  {
   "cell_type": "code",
   "execution_count": 1,
   "id": "3e8f734a",
   "metadata": {},
   "outputs": [],
   "source": [
    "import sagemaker\n",
    "import boto3\n",
    "import os\n",
    "\n",
    "\n",
    "bucket= sagemaker.session.Session().default_bucket()\n",
    "role = sagemaker.get_execution_role()\n",
    "region = boto3.client('sagemaker').meta.region_name\n",
    "\n",
    "os.environ[\"DEFAULT_S3_BUCKET\"] = bucket\n",
    "os.environ[\"PREFIX\"] = 'Udacity-AWSML-PRO2'\n",
    "\n",
    "prefix = os.environ[\"PREFIX\"]"
   ]
  },
  {
   "cell_type": "code",
   "execution_count": 2,
   "id": "640ad441",
   "metadata": {},
   "outputs": [],
   "source": [
    "event = {\n",
    "  \"inferences\": [],\n",
    "  \"s3_key\": \"Udacity-AWSML-PRO2/test/bike_s_002116.png\",\n",
    "  \"s3_bucket\": \"sagemaker-us-east-1-254050731868\",\n",
    "  \"image_data\": \"\"\n",
    "}"
   ]
  },
  {
   "cell_type": "code",
   "execution_count": 3,
   "id": "d6c50328",
   "metadata": {},
   "outputs": [],
   "source": [
    "import json\n",
    "import base64\n",
    "import os\n",
    "import boto3\n",
    "\n",
    "def lambda_handler(event, context):\n",
    "    \"\"\"A function to serialize target data from S3\"\"\"\n",
    "\n",
    "    s3 = boto3.client('s3')\n",
    "\n",
    "    # Get the s3 address from the Step Function event input\n",
    "    key = event['s3_key']\n",
    "    bucket = event['s3_bucket']\n",
    "    \n",
    "    # Download the data from s3 to /tmp/image.png\n",
    "    s3.download_file(bucket, key, '/tmp/image.png')\n",
    "    \n",
    "    with open(\"/tmp/image.png\", \"rb\") as f:\n",
    "        image_data = base64.b64encode(f.read())\n",
    "\n",
    "    # Pass the data back to the Step Function\n",
    "    print(\"Event:\", event.keys())\n",
    "    return {\n",
    "        'statusCode': 200,\n",
    "        'body': {\n",
    "            \"image_data\": image_data,\n",
    "            \"s3_bucket\": bucket,\n",
    "            \"s3_key\": key,\n",
    "            \"inferences\": []\n",
    "        }\n",
    "    }"
   ]
  },
  {
   "cell_type": "code",
   "execution_count": 4,
   "id": "dbf5563f",
   "metadata": {},
   "outputs": [
    {
     "name": "stdout",
     "output_type": "stream",
     "text": [
      "Event: dict_keys(['inferences', 's3_key', 's3_bucket', 'image_data'])\n"
     ]
    },
    {
     "data": {
      "text/plain": [
       "{'statusCode': 200,\n",
       " 'body': {'image_data': b'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',\n",
       "  's3_bucket': 'sagemaker-us-east-1-254050731868',\n",
       "  's3_key': 'Udacity-AWSML-PRO2/test/bike_s_002116.png',\n",
       "  'inferences': []}}"
      ]
     },
     "execution_count": 4,
     "metadata": {},
     "output_type": "execute_result"
    }
   ],
   "source": [
    "lambda_handler(event, None)"
   ]
  },
  {
   "cell_type": "markdown",
   "id": "e0c8e42a",
   "metadata": {},
   "source": [
    "###### Helper Function"
   ]
  },
  {
   "cell_type": "code",
   "execution_count": null,
   "id": "e43bedaa",
   "metadata": {},
   "outputs": [],
   "source": [
    "def upload_file_to_s3(file_name, bucket, s3_prefix):\n",
    "    object_name = os.path.join(s3_prefix, file_name)\n",
    "    s3_client = boto3.client('s3')\n",
    "    try:\n",
    "        response = s3_client.upload_file(file_name, bucket, object_name)\n",
    "    except ClientError as e:\n",
    "        logging.error(e)\n",
    "        return False"
   ]
  },
  {
   "cell_type": "markdown",
   "id": "d0df0a4b",
   "metadata": {},
   "source": [
    "##### 1.1 - Serialize Image data"
   ]
  },
  {
   "cell_type": "code",
   "execution_count": null,
   "id": "e1e1eaaf",
   "metadata": {},
   "outputs": [],
   "source": [
    "%%writefile lambda_function.py\n",
    "\n",
    "# This cell will write the function to your local machine. Note the name of the file and the name of the function. \n",
    "# Compare this to the 'Handler' parameter. \n",
    "\n",
    "import json\n",
    "import base64\n",
    "import os\n",
    "import boto3\n",
    "\n",
    "# Lambda Event Structure\n",
    "#{\n",
    "#    \"inferences\": [], # Output of predictor.predict\n",
    "#    \"s3_key\": \"\", # Source data S3 key\n",
    "#    \"s3_bucket\": \"\", # Source data S3 bucket\n",
    "#    \"image_data\": \"\"  # base64 encoded string containing the image data\n",
    "#}\n",
    "\n",
    "def lambda_handler(event, context):\n",
    "    \"\"\"A function to serialize target data from S3\"\"\"\n",
    "\n",
    "    s3 = boto3.client('s3')\n",
    "\n",
    "    # Get the s3 address from the Step Function event input\n",
    "    key = event['s3_key']\n",
    "    bucket = event['s3_bucket']\n",
    "    \n",
    "    # Download the data from s3 to /tmp/image.png\n",
    "    s3.download_file(bucket, key, '/tmp/image.png')\n",
    "    \n",
    "    with open(\"/tmp/image.png\", \"rb\") as f:\n",
    "        image_data = base64.b64encode(f.read())\n",
    "\n",
    "    # Pass the data back to the Step Function\n",
    "    print(\"Event:\", event.keys())\n",
    "    return {\n",
    "        'statusCode': 200,\n",
    "        'body': {\n",
    "            \"image_data\": image_data,\n",
    "            \"s3_bucket\": bucket,\n",
    "            \"s3_key\": key,\n",
    "            \"inferences\": []\n",
    "        }\n",
    "    }\n"
   ]
  },
  {
   "cell_type": "markdown",
   "id": "1581b0a6",
   "metadata": {},
   "source": [
    "###### 1.2 - Zip to a File"
   ]
  },
  {
   "cell_type": "code",
   "execution_count": null,
   "id": "282f9cde",
   "metadata": {},
   "outputs": [],
   "source": [
    "from zipfile import ZipFile\n",
    "\n",
    "with ZipFile('code.zip', 'w') as f:\n",
    "    f.write('lambda_function.py')"
   ]
  },
  {
   "cell_type": "markdown",
   "id": "4659a563",
   "metadata": {},
   "source": [
    "###### 1.3 - Upload to S3"
   ]
  },
  {
   "cell_type": "code",
   "execution_count": null,
   "id": "49b3a22e",
   "metadata": {},
   "outputs": [],
   "source": [
    "#upload_file_to_s3(file_name='code.zip', bucket=bucket, s3_prefix=prefix)"
   ]
  },
  {
   "cell_type": "markdown",
   "id": "a49cdb06",
   "metadata": {},
   "source": [
    "#### 1.4 - Create Lambda Function over AWS"
   ]
  },
  {
   "cell_type": "code",
   "execution_count": null,
   "id": "04df501d",
   "metadata": {},
   "outputs": [],
   "source": [
    "lambda_client = boto3.client('lambda')\n",
    "\n",
    "with open('code.zip', 'rb') as f:\n",
    "    b_code = f.read()\n",
    "\n",
    "response = lambda_client.create_function(\n",
    "    FunctionName='serializeImageData',\n",
    "    Runtime='python3.8',\n",
    "    Handler='lambda_function.lambda_handler',\n",
    "    Code={'ZipFile': b_code, },\n",
    "    Description='string',\n",
    "    Timeout=30,\n",
    "    MemorySize=1024,\n",
    "    Publish=True,\n",
    "    PackageType='Zip',\n",
    "    Role=role\n",
    ")"
   ]
  },
  {
   "cell_type": "markdown",
   "id": "39bbce52",
   "metadata": {},
   "source": [
    "#### 1.5 - Invoke Endpoint"
   ]
  },
  {
   "cell_type": "code",
   "execution_count": 5,
   "id": "8a15f714",
   "metadata": {},
   "outputs": [],
   "source": [
    "event = {\n",
    "  \"inferences\": [],\n",
    "  \"s3_key\": \"Udacity-AWSML-PRO2/test/bike_s_002116.png\",\n",
    "  \"s3_bucket\": \"sagemaker-us-east-1-254050731868\",\n",
    "  \"image_data\": \"\"\n",
    "}"
   ]
  },
  {
   "cell_type": "code",
   "execution_count": 6,
   "id": "3d3e4132",
   "metadata": {},
   "outputs": [],
   "source": [
    "import json\n",
    "\n",
    "lambda_client = boto3.client('lambda')\n",
    "payload = event\n",
    "\n",
    "payload_bytes = json.dumps(payload).encode('utf-8')\n",
    "response = lambda_client.invoke(FunctionName='serializeImageData', InvocationType='Event', Payload=payload_bytes)"
   ]
  },
  {
   "cell_type": "code",
   "execution_count": 7,
   "id": "c35d1312",
   "metadata": {},
   "outputs": [
    {
     "data": {
      "text/plain": [
       "{'ResponseMetadata': {'RequestId': 'ccea4c7b-226e-43a5-a28f-cdeb95538c53',\n",
       "  'HTTPStatusCode': 202,\n",
       "  'HTTPHeaders': {'date': 'Sun, 18 Sep 2022 01:02:04 GMT',\n",
       "   'content-length': '0',\n",
       "   'connection': 'keep-alive',\n",
       "   'x-amzn-requestid': 'ccea4c7b-226e-43a5-a28f-cdeb95538c53',\n",
       "   'x-amzn-remapped-content-length': '0',\n",
       "   'x-amzn-trace-id': 'root=1-63266e0c-5f4299c14b031a0c70fbd534;sampled=0'},\n",
       "  'RetryAttempts': 0},\n",
       " 'StatusCode': 202,\n",
       " 'Payload': <botocore.response.StreamingBody at 0x7fdd580f5670>}"
      ]
     },
     "execution_count": 7,
     "metadata": {},
     "output_type": "execute_result"
    }
   ],
   "source": [
    "response"
   ]
  }
 ],
 "metadata": {
  "kernelspec": {
   "display_name": "conda_python3",
   "language": "python",
   "name": "conda_python3"
  },
  "language_info": {
   "codemirror_mode": {
    "name": "ipython",
    "version": 3
   },
   "file_extension": ".py",
   "mimetype": "text/x-python",
   "name": "python",
   "nbconvert_exporter": "python",
   "pygments_lexer": "ipython3",
   "version": "3.8.12"
  }
 },
 "nbformat": 4,
 "nbformat_minor": 5
}
