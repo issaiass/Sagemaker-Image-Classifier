{
 "cells": [
  {
   "cell_type": "markdown",
   "id": "21a3faac",
   "metadata": {},
   "source": [
    "# Lambda 3 - Filter Confidences"
   ]
  },
  {
   "cell_type": "code",
   "execution_count": 1,
   "id": "9834c6f3",
   "metadata": {},
   "outputs": [],
   "source": [
    "import sagemaker\n",
    "import boto3\n",
    "import os\n",
    "\n",
    "\n",
    "bucket= sagemaker.session.Session().default_bucket()\n",
    "role = sagemaker.get_execution_role()\n",
    "region = boto3.client('sagemaker').meta.region_name\n",
    "\n",
    "os.environ[\"DEFAULT_S3_BUCKET\"] = bucket\n",
    "os.environ[\"PREFIX\"] = 'Udacity-AWSML-PRO2'\n",
    "\n",
    "prefix = os.environ[\"PREFIX\"]"
   ]
  },
  {
   "cell_type": "markdown",
   "id": "6ce042ef",
   "metadata": {},
   "source": [
    "#### From the previous lambda the output is..."
   ]
  },
  {
   "cell_type": "raw",
   "id": "f9bee6cd",
   "metadata": {},
   "source": [
    "{\n",
    "  'statusCode': 200,\n",
    " 'body': '{\"inferences\": [0.9969943761825562, 0.0030055944807827473]}'\n",
    "}"
   ]
  },
  {
   "cell_type": "code",
   "execution_count": 2,
   "id": "7e405cb7",
   "metadata": {},
   "outputs": [],
   "source": [
    "event = {\n",
    " 'statusCode': 200,\n",
    " 'body': '{\"inferences\": [0.9969943761825562, 0.0030055944807827473]}'\n",
    "}"
   ]
  },
  {
   "cell_type": "code",
   "execution_count": 7,
   "id": "76229902",
   "metadata": {},
   "outputs": [],
   "source": [
    "import json\n",
    "\n",
    "THRESHOLD = .93\n",
    "\n",
    "\n",
    "def lambda_handler(event, context):\n",
    "\n",
    "    # Grab the inferences from the event\n",
    "    json_string = event['body']\n",
    "    json_object = json.loads(json_string)\n",
    "    inferences = json_object['inferences']\n",
    "    \n",
    "\n",
    "    # Check if any values in our inferences are above THRESHOLD\n",
    "    meets_threshold = [1.0*(cls > THRESHOLD) for cls in inferences] \n",
    "\n",
    "    \n",
    "    # If our threshold is met, pass our data back out of the\n",
    "    # Step Function, else, end the Step Function with an error\n",
    "    event = dict()\n",
    "    if sum(meets_threshold):\n",
    "        event[\"inferences\"] = meets_threshold      \n",
    "    else:\n",
    "        raise(\"THRESHOLD_CONFIDENCE_NOT_MET\")\n",
    "    return {\n",
    "        'statusCode': 200,\n",
    "        'body': event #json.dumps(event)\n",
    "    }"
   ]
  },
  {
   "cell_type": "code",
   "execution_count": 8,
   "id": "dfb09cf6",
   "metadata": {
    "scrolled": true
   },
   "outputs": [
    {
     "data": {
      "text/plain": [
       "{'statusCode': 200, 'body': {'inferences': [1.0, 0.0]}}"
      ]
     },
     "execution_count": 8,
     "metadata": {},
     "output_type": "execute_result"
    }
   ],
   "source": [
    "response_threshold = lambda_handler(event=event, context={'ContentType':'application/json'}) \n",
    "response_threshold"
   ]
  },
  {
   "cell_type": "markdown",
   "id": "aaafa706",
   "metadata": {},
   "source": [
    "###### Helper Function"
   ]
  },
  {
   "cell_type": "raw",
   "id": "00fc3268",
   "metadata": {},
   "source": [
    "def upload_file_to_s3(file_name, bucket, s3_prefix):\n",
    "    object_name = os.path.join(s3_prefix, file_name)\n",
    "    s3_client = boto3.client('s3')\n",
    "    try:\n",
    "        response = s3_client.upload_file(file_name, bucket, object_name)\n",
    "    except ClientError as e:\n",
    "        logging.error(e)\n",
    "        return False"
   ]
  },
  {
   "cell_type": "markdown",
   "id": "2b80be44",
   "metadata": {},
   "source": [
    "##### 1.1 - Serialize Image data"
   ]
  },
  {
   "cell_type": "code",
   "execution_count": 83,
   "id": "512f195f",
   "metadata": {},
   "outputs": [
    {
     "name": "stdout",
     "output_type": "stream",
     "text": [
      "Overwriting lambda_function.py\n"
     ]
    }
   ],
   "source": [
    "%%writefile lambda_function.py\n",
    "\n",
    "import json\n",
    "\n",
    "THRESHOLD = .93\n",
    "\n",
    "\n",
    "def lambda_handler(event, context):\n",
    "\n",
    "    # Grab the inferences from the event\n",
    "    json_string = event['body']\n",
    "    json_object = json.loads(json_string)\n",
    "    inferences = json_object['inferences']\n",
    "    \n",
    "\n",
    "    # Check if any values in our inferences are above THRESHOLD\n",
    "    meets_threshold = [1.0*(cls > THRESHOLD) for cls in inferences] \n",
    "\n",
    "    \n",
    "    # If our threshold is met, pass our data back out of the\n",
    "    # Step Function, else, end the Step Function with an error\n",
    "    event = dict()\n",
    "    if sum(meets_threshold):\n",
    "        event[\"inferences\"] = meets_threshold      \n",
    "    else:\n",
    "        raise(\"THRESHOLD_CONFIDENCE_NOT_MET\")\n",
    "    return {\n",
    "        'statusCode': 200,\n",
    "        'body': event #json.dumps(event)\n",
    "    }"
   ]
  },
  {
   "cell_type": "markdown",
   "id": "44aca3f6",
   "metadata": {},
   "source": [
    "###### 1.2 - Zip to a File"
   ]
  },
  {
   "cell_type": "code",
   "execution_count": 84,
   "id": "d7b61b5b",
   "metadata": {},
   "outputs": [],
   "source": [
    "from zipfile import ZipFile\n",
    "\n",
    "with ZipFile('code.zip', 'w') as f:\n",
    "    f.write('lambda_function.py')"
   ]
  },
  {
   "cell_type": "markdown",
   "id": "55e6c58d",
   "metadata": {},
   "source": [
    "###### 1.3 - Upload to S3"
   ]
  },
  {
   "cell_type": "code",
   "execution_count": 85,
   "id": "2be29a1a",
   "metadata": {},
   "outputs": [],
   "source": [
    "#upload_file_to_s3(file_name='code.zip', bucket=bucket, s3_prefix=prefix)"
   ]
  },
  {
   "cell_type": "markdown",
   "id": "9154087f",
   "metadata": {},
   "source": [
    "#### 1.4 - Create Lambda Function over AWS"
   ]
  },
  {
   "cell_type": "code",
   "execution_count": 86,
   "id": "90faa46b",
   "metadata": {},
   "outputs": [],
   "source": [
    "lambda_client = boto3.client('lambda')\n",
    "\n",
    "os.path\n",
    "with open('code.zip', 'rb') as f:\n",
    "    b_code = f.read()"
   ]
  },
  {
   "cell_type": "code",
   "execution_count": 87,
   "id": "534e0946",
   "metadata": {},
   "outputs": [],
   "source": [
    "response = lambda_client.create_function(\n",
    "    FunctionName='filterConfidences',\n",
    "    Runtime='python3.8',\n",
    "    Handler='lambda_function.lambda_handler',\n",
    "    Code={\n",
    "        'ZipFile': b_code,\n",
    "    },\n",
    "    Description='string',\n",
    "    Timeout=30,\n",
    "    MemorySize=1024,\n",
    "    Publish=True,\n",
    "    PackageType='Zip',\n",
    "    Role=role\n",
    ")"
   ]
  },
  {
   "cell_type": "code",
   "execution_count": 88,
   "id": "13154139",
   "metadata": {},
   "outputs": [
    {
     "data": {
      "text/plain": [
       "{'ResponseMetadata': {'RequestId': 'f179231b-650a-477d-8bb2-761edfa07cb6',\n",
       "  'HTTPStatusCode': 201,\n",
       "  'HTTPHeaders': {'date': 'Sun, 18 Sep 2022 03:59:13 GMT',\n",
       "   'content-type': 'application/json',\n",
       "   'content-length': '1035',\n",
       "   'connection': 'keep-alive',\n",
       "   'x-amzn-requestid': 'f179231b-650a-477d-8bb2-761edfa07cb6'},\n",
       "  'RetryAttempts': 0},\n",
       " 'FunctionName': 'filterConfidences',\n",
       " 'FunctionArn': 'arn:aws:lambda:us-east-1:254050731868:function:filterConfidences',\n",
       " 'Runtime': 'python3.8',\n",
       " 'Role': 'arn:aws:iam::254050731868:role/service-role/AmazonSageMaker-ExecutionRole-20220428T195259',\n",
       " 'Handler': 'lambda_function.lambda_handler',\n",
       " 'CodeSize': 938,\n",
       " 'Description': 'string',\n",
       " 'Timeout': 30,\n",
       " 'MemorySize': 1024,\n",
       " 'LastModified': '2022-09-18T03:59:13.392+0000',\n",
       " 'CodeSha256': '531T+Tdw5YIe95FAvIf8VOjYC7JR7qkY01Xh2eVnlYI=',\n",
       " 'Version': '1',\n",
       " 'TracingConfig': {'Mode': 'PassThrough'},\n",
       " 'RevisionId': '377c70c9-90c0-41e8-b6af-cb2300c8be4f',\n",
       " 'State': 'Pending',\n",
       " 'StateReason': 'The function is being created.',\n",
       " 'StateReasonCode': 'Creating',\n",
       " 'PackageType': 'Zip',\n",
       " 'Architectures': ['x86_64'],\n",
       " 'EphemeralStorage': {'Size': 512}}"
      ]
     },
     "execution_count": 88,
     "metadata": {},
     "output_type": "execute_result"
    }
   ],
   "source": [
    "response"
   ]
  },
  {
   "cell_type": "markdown",
   "id": "a13a91f1",
   "metadata": {},
   "source": [
    "#### 1.5 - Invoke Endpoint"
   ]
  },
  {
   "cell_type": "code",
   "execution_count": 89,
   "id": "cfa1689e",
   "metadata": {},
   "outputs": [],
   "source": [
    "event = {\n",
    " 'statusCode': 200,\n",
    " 'body': '{\"inferences\": [0.9969943761825562, 0.0030055944807827473]}'\n",
    "}"
   ]
  },
  {
   "cell_type": "code",
   "execution_count": 90,
   "id": "a9a63bfd",
   "metadata": {},
   "outputs": [],
   "source": [
    "import json\n",
    "\n",
    "lambda_client = boto3.client('lambda')\n",
    "payload = event\n",
    "\n",
    "payload_bytes = json.dumps(payload).encode('utf-8')\n",
    "response = lambda_client.invoke(FunctionName='filterConfidences', InvocationType='Event', Payload=payload_bytes)"
   ]
  },
  {
   "cell_type": "code",
   "execution_count": 91,
   "id": "6aa918ba",
   "metadata": {},
   "outputs": [
    {
     "data": {
      "text/plain": [
       "{'ResponseMetadata': {'RequestId': '17fa61f1-9f1e-4cc5-b287-ef68c9ab8c3d',\n",
       "  'HTTPStatusCode': 202,\n",
       "  'HTTPHeaders': {'date': 'Sun, 18 Sep 2022 03:59:57 GMT',\n",
       "   'content-length': '0',\n",
       "   'connection': 'keep-alive',\n",
       "   'x-amzn-requestid': '17fa61f1-9f1e-4cc5-b287-ef68c9ab8c3d',\n",
       "   'x-amzn-remapped-content-length': '0',\n",
       "   'x-amzn-trace-id': 'root=1-632697bc-136178f73a9f8feb0e53baaa;sampled=0'},\n",
       "  'RetryAttempts': 0},\n",
       " 'StatusCode': 202,\n",
       " 'Payload': <botocore.response.StreamingBody at 0x7ff502607340>}"
      ]
     },
     "execution_count": 91,
     "metadata": {},
     "output_type": "execute_result"
    }
   ],
   "source": [
    "response"
   ]
  }
 ],
 "metadata": {
  "kernelspec": {
   "display_name": "conda_python3",
   "language": "python",
   "name": "conda_python3"
  },
  "language_info": {
   "codemirror_mode": {
    "name": "ipython",
    "version": 3
   },
   "file_extension": ".py",
   "mimetype": "text/x-python",
   "name": "python",
   "nbconvert_exporter": "python",
   "pygments_lexer": "ipython3",
   "version": "3.8.12"
  }
 },
 "nbformat": 4,
 "nbformat_minor": 5
}
